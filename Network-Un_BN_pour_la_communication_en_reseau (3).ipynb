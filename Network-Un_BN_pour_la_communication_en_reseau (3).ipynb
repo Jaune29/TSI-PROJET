{
 "cells": [
  {
   "cell_type": "markdown",
   "metadata": {},
   "source": [
    "# Un Bloc Note pour expérimenter la communication dans un réseau :\n",
    "\n",
    "\n",
    "# Introduction :\n",
    "\n",
    "Les réseaux informatiques font partie de notre quotidien depuis de nombreuses années. Ils sont le support de nombreux services (données, voix, vidéo)... \n",
    "\n",
    "> voir la vidéo [Les réseaux informatiques et Internet](https://www.youtube.com/watch?v=JqweQE6TDTc)"
   ]
  },
  {
   "cell_type": "code",
   "execution_count": 2,
   "metadata": {},
   "outputs": [
    {
     "data": {
      "text/html": [
       "<center>\n",
       "<iframe width=\"560\" height=\"315\" src=\"https://www.youtube.com/embed/JqweQE6TDTc\" frameborder=\"0\" allow=\"accelerometer; autoplay; encrypted-media; gyroscope; picture-in-picture\" allowfullscreen></iframe>\n",
       "</center>\n"
      ],
      "text/plain": [
       "<IPython.core.display.HTML object>"
      ]
     },
     "metadata": {},
     "output_type": "display_data"
    }
   ],
   "source": [
    "%%HTML\n",
    "<center>\n",
    "<iframe width=\"560\" height=\"315\" src=\"https://www.youtube.com/embed/JqweQE6TDTc\" frameborder=\"0\" allow=\"accelerometer; autoplay; encrypted-media; gyroscope; picture-in-picture\" allowfullscreen></iframe>\n",
    "</center>"
   ]
  },
  {
   "cell_type": "markdown",
   "metadata": {},
   "source": [
    "Ce BN a pour objectif de vous faire découvrir le fonctionnement des réseaux (LAN / WAN) en les mettant en œuvre, en suivant le chemin (route) emprunté par l’information, en observant les échanges d’informations (traffic), et en construisant, paramétrant, et testant le fonctionnement d'un réseau local LAN..."
   ]
  },
  {
   "cell_type": "markdown",
   "metadata": {},
   "source": [
    "# Expérience n°1 sur le réseau du lycée :\n",
    "Les PC du Labo de SI, comme tous ceux du lycée sont connectés en réseau :\n",
    "<img src=\"https://ericecmorlaix.github.io/img/Reseau.png\" width=\"50%\" >\n",
    "<center><figcaption>Illustration très simplifiée du réseau du lycée.</figcaption></center>\n",
    "\n",
    "### Relever les paramètres du réseau :\n",
    "\n",
    "Depuis un PC sous Windows10 saisir `cmd` dans cortana pour démarrer une invite de commandes et taper `ipconfig`.\n",
    "\n",
    "*(Vous pouvez aussi réaliser cette expérience chez vous sur un PC avec l'OS Windows...)*\n",
    "\n",
    "Quel est l'état des connexions (connecté/déconnecté) ?"
   ]
  },
  {
   "cell_type": "raw",
   "metadata": {},
   "source": []
  },
  {
   "cell_type": "markdown",
   "metadata": {},
   "source": [
    "Taper `ipconfig/all`. Quelle est la différence avec la commande précédente ?"
   ]
  },
  {
   "cell_type": "raw",
   "metadata": {},
   "source": []
  },
  {
   "cell_type": "markdown",
   "metadata": {},
   "source": [
    "Relever les paramètres IPV4 de la carte réseau de votre PC :"
   ]
  },
  {
   "cell_type": "raw",
   "metadata": {},
   "source": [
    "- Description :\n",
    "- Adresse Physique : \n",
    "- Configuration \t:\tautomatique  /  manuelle\t\t\t(rayer la mention inutile)\n",
    "- Adresse IP :\n",
    "- Masque :\n",
    "- Passerelle :\n",
    "- Serveur(s) DNS :\n",
    "- Serveur DHCP :\n",
    "- Durée de validité des paramètres IP (durée du bail) :"
   ]
  },
  {
   "cell_type": "markdown",
   "metadata": {},
   "source": [
    "En trois mots, qu’est-ce qu’une adresse MAC ?"
   ]
  },
  {
   "cell_type": "raw",
   "metadata": {},
   "source": []
  },
  {
   "cell_type": "markdown",
   "metadata": {},
   "source": [
    "En trois mots, qu’est-ce qu’un serveur DNS ?"
   ]
  },
  {
   "cell_type": "raw",
   "metadata": {},
   "source": []
  },
  {
   "cell_type": "markdown",
   "metadata": {},
   "source": [
    "Qu’est-ce qu’un serveur DHCP ?"
   ]
  },
  {
   "cell_type": "raw",
   "metadata": {},
   "source": []
  },
  {
   "cell_type": "markdown",
   "metadata": {},
   "source": [
    "Débrancher le câble Ethernet du PC, puis refaire un `ipconfig/all`. Quelle est la différence avec précédemment ?"
   ]
  },
  {
   "cell_type": "raw",
   "metadata": {},
   "source": []
  },
  {
   "cell_type": "markdown",
   "metadata": {},
   "source": [
    "Reconnecter, et recommencer. Quelle est la différence avec précédemment ?"
   ]
  },
  {
   "cell_type": "raw",
   "metadata": {},
   "source": []
  },
  {
   "cell_type": "markdown",
   "metadata": {},
   "source": [
    "Taper `ipconfig/release`. Quelle est l’action de cette commande ?"
   ]
  },
  {
   "cell_type": "raw",
   "metadata": {},
   "source": []
  },
  {
   "cell_type": "markdown",
   "metadata": {},
   "source": [
    "Taper `ipconfig/renew`. Quelle est l’action de cette commande. Qu’est-ce-qui a changé par rapport à\n",
    "la question précédente ?"
   ]
  },
  {
   "cell_type": "raw",
   "metadata": {},
   "source": []
  },
  {
   "cell_type": "markdown",
   "metadata": {},
   "source": [
    "Taper `ipconfig/?` pour vérifier vos réponses..."
   ]
  },
  {
   "cell_type": "raw",
   "metadata": {},
   "source": []
  },
  {
   "cell_type": "markdown",
   "metadata": {},
   "source": [
    "### Test de communication :\n",
    "\n",
    "La commande couramment utilisée pour tester la communication entre les machines est `ping`. Par exemple, l'instruction `ping 192.168.1.99` permet de vérifier que votre PC communique avec le poste `192.168.1.99`. \n",
    "\n",
    "Tester la communication avec le poste de votre voisin (indiquer la commande et le résultat obtenu). La communication est-elle établie ? Si non, désactiver temporairement le pare-feu (ou régler ces paramètres avancés ICMP pour autoriser une requête d’écho entrante). Qui répond ?"
   ]
  },
  {
   "cell_type": "raw",
   "metadata": {},
   "source": []
  },
  {
   "cell_type": "markdown",
   "metadata": {},
   "source": [
    "Tester la communication avec la passerelle (indiquer la commande et le résultat obtenu). La communication est-elle établie ? Qui répond ?"
   ]
  },
  {
   "cell_type": "raw",
   "metadata": {},
   "source": []
  },
  {
   "cell_type": "markdown",
   "metadata": {},
   "source": [
    "Tester la communication avec le 192.168.1.0 (indiquer la commande et le résultat obtenu). La communication est-elle établie ? Qui répond ?"
   ]
  },
  {
   "cell_type": "raw",
   "metadata": {},
   "source": []
  },
  {
   "cell_type": "markdown",
   "metadata": {},
   "source": [
    "Tester la communication avec le site www.google.fr  (indiquer la commande et le résultat obtenu). La communication est-elle établie ? Qui répond ?"
   ]
  },
  {
   "cell_type": "raw",
   "metadata": {},
   "source": []
  },
  {
   "cell_type": "markdown",
   "metadata": {},
   "source": [
    "Alors saisir l'IP de la réponse dans la barre d'URL de votre navigateur..."
   ]
  },
  {
   "cell_type": "markdown",
   "metadata": {},
   "source": [
    "Essayer aussi avec l'instruction `nslookup www.google.fr`\n",
    "\n",
    "****\n",
    "> <img src=\"https://ericecmorlaix.github.io/img/OS-aShell.png\" alt=\"OS-aShell.png\" width=20% align=\"right\">\n",
    "> <br>\n",
    ">\n",
    "> Dans les applications `Ubuntu WSL` sur PC, `a-Shell mini` et `iSH Shell` sur votre iPad,\n",
    "> \n",
    "> tester les commandes `ifconfig`, `ping`, `nslookup`...\n",
    "> \n",
    "> <br>\n",
    "> <br>\n",
    "****"
   ]
  },
  {
   "cell_type": "markdown",
   "metadata": {},
   "source": [
    "Essayer maintenant l'instruction `tracert www.google.fr`\n",
    "\n",
    "Faire de même avec `www.ecmorlaix.fr`\n",
    "\n",
    "\n"
   ]
  },
  {
   "cell_type": "markdown",
   "metadata": {},
   "source": [
    "# Comprendre :\n",
    "\n",
    "## L'adressage IP des machines sur un réseau :\n",
    "\n",
    "- Lire et faire les exercices de la page [Introduction au réseau](https://pixees.fr/informatiquelycee/n_site/nsi_prem_intro_reseau.html) proposée par David ROCHE ;\n",
    "\n",
    "## Les échanges d'informations dans un réseau TCP/IP :\n",
    "\n",
    "- Régarder les vidéos :\n",
    "    - [Internet, IP un protocole universel ?](https://youtu.be/s18KtOLpCg4) ;\n",
    "    - [C'est quoi le TCP/IP ?](https://youtu.be/_0thnFumSdA) ;\n",
    "\n",
    "- Lire les pages proposées par David ROCHE :\n",
    "    - [Protocoles TCP et IP](https://pixees.fr/informatiquelycee/n_site/nsi_prem_tcpip.html) ;\n",
    "    - [Le modèle TCP/IP](https://pixees.fr/informatiquelycee/n_site/nsi_prem_modele_tcpip.html) ;\n",
    "    - [Protocole du bit alterné](https://pixees.fr/informatiquelycee/n_site/nsi_prem_bit_alt.html) ;  \n"
   ]
  },
  {
   "cell_type": "markdown",
   "metadata": {},
   "source": [
    "# Expérience n°2 construire un réseau local :\n",
    "\n",
    "### Entre 2 PC :\n",
    "Dans ce premier montage, vous allez connecter vos ordinateurs directement en utilisant un simple câble Ethernet.\n",
    "<img src=\"https://ericecmorlaix.github.io/img/2PC.png\" width=\"50%\" >\n",
    "\n",
    "Les ordinateurs auront-ils accès à Internet? Justifier :\n",
    "\n",
    "...\n",
    "\n",
    "Effectuer le montage et configurer la carte réseau en adressage automatique. Attendre 30 secondes, puis relever l'adresse IP de vos ordinateurs et vérifier la connexion par un `ping`.\n",
    "\n",
    "Qu'est-ce qu'une adresse APIPA ?\n",
    "\n",
    "...\n",
    "\n",
    "Quel autre type d'adresse aurait-on pu configurer ?\n",
    "\n",
    "...\n",
    "\n",
    "Qu'est-ce qu'un cable croisé ?\n",
    "\n",
    "...\n",
    "\n",
    "Qu'est-ce que la fonction Auto MDIX ?\n",
    "\n",
    "...\n",
    "\n",
    "### LAN, Local Area Network :\n",
    "L'objectif maintenant est d'établir un réseau LAN entre 2 PC avec un switch ou un routeur puis d'y intégrer un Raspberry Pi afin de s'y connecter à distance. Il sera alors possible d'utiliser les différents services qui y sont installés ou d'y créer de nouveaux...\n",
    "<img src=\"https://ericecmorlaix.github.io/img/LAN.png\" width=\"75%\" >\n",
    "\n",
    "Effectuer le montage et configurer la carte réseau en adressage automatique. Attendre 30 secondes, puis relever l'adresse IP de vos appareils et vérifier la connexion par un `ping`...\n",
    "\n",
    "##### SSH, Secure Shell :\n",
    "\n",
    "Vérifier dans les préférences de configuration du Raspberry Pi que l'interface SSH est activée. ce qui n’est plus le cas par défaut depuis 2016 et une attaque massive sur les objets connectés...\n",
    "\n",
    "A partir de Cortana, rechercher et lancer l'application de bureau PuTTY. Choisir une connection de type [SSH](https://fr.wikipedia.org/wiki/Secure_Shell), saisir l'adresse IP de votre Raspberry Pi puis cliquer sur le bouton `Open` pour ouvrir la connection et établir la communication entre le PC et l'appareil distant.\n",
    "<img src=\"https://ericecmorlaix.github.io/img/W10-PuTTY-SSH.png\" width=\"40%\" >\n",
    "Dans la fenêtre de terminal qui s'ouvre, saisir `Python3`, les trois chevrons `>>>` d'un interpréteur python doivent apparaitre. Tester le bon fonctionnement avec quelques instructions...\n",
    "\n",
    "Puis saisir `exit()` ou faire `Ctrl+D`  pour  quitter et revenir au prompt, saisir `pinout` pour visualiser l'organisation du [GPIO](https://fr.wikipedia.org/wiki/General_Purpose_Input/Output)...\n",
    "\n",
    "Vérifier que depuis un terminal Windows PowerShell sur PC, il est aussi possible de se connecter en SSH avec une instruction en ligne de commande de la forme : `ssh utilisateur@adresse_ip_ou_url_serveur`\n",
    "\n",
    "De même, vérifier que cela est possible depuis les applications `Ubuntu WSL` sur PC, `a-Shell mini` et `iSH Shell` sur votre iPad...\n",
    "\n",
    "Est-il possible de se connecter à plusieurs au Raspberry Pi en SSH ? \n",
    "\n",
    "\n",
    "\n",
    "##### GPIO, General Purpose Input Output :\n",
    "\n",
    "Si ce n'est pas déjà fait, dans les préférences de configuration du Raspberry Pi activer l'interface `Remote GPIO`\n",
    "Connecter alors une breadboard de base à votre Raspberry Pi et piloter son [GPIO](https://fr.wikipedia.org/wiki/General_Purpose_Input/Output) avec, par exemple, cette suite d'instructions :"
   ]
  },
  {
   "cell_type": "code",
   "execution_count": null,
   "metadata": {},
   "outputs": [],
   "source": [
    "from gpiozero import LED"
   ]
  },
  {
   "cell_type": "code",
   "execution_count": null,
   "metadata": {},
   "outputs": [],
   "source": [
    "maLED = LED(17)"
   ]
  },
  {
   "cell_type": "code",
   "execution_count": null,
   "metadata": {},
   "outputs": [],
   "source": [
    "maLED.on()"
   ]
  },
  {
   "cell_type": "code",
   "execution_count": null,
   "metadata": {},
   "outputs": [],
   "source": [
    "maLED.off()"
   ]
  },
  {
   "cell_type": "code",
   "execution_count": null,
   "metadata": {},
   "outputs": [],
   "source": [
    "from gpiozero import Button"
   ]
  },
  {
   "cell_type": "code",
   "execution_count": null,
   "metadata": {},
   "outputs": [],
   "source": [
    "monBoutton = Button(4)"
   ]
  },
  {
   "cell_type": "code",
   "execution_count": null,
   "metadata": {},
   "outputs": [],
   "source": [
    "not monBoutton.is_pressed"
   ]
  },
  {
   "cell_type": "code",
   "execution_count": null,
   "metadata": {},
   "outputs": [],
   "source": [
    "from time import sleep"
   ]
  },
  {
   "cell_type": "code",
   "execution_count": null,
   "metadata": {},
   "outputs": [],
   "source": [
    "while True:\n",
    "    print(\"Bonjour\")\n",
    "    maLED.on()\n",
    "    sleep(1)\n",
    "    maLED.off()\n",
    "    sleep(1)\n",
    "    if (not monBoutton.is_pressed):\n",
    "        print(\"Kenavo\")\n",
    "        break"
   ]
  },
  {
   "cell_type": "markdown",
   "metadata": {},
   "source": [
    "Enregistrer alors votre script dans un fichier python (`monScript_GPIO.py`) sur le raspberry pi et lancer le depuis votre iPad connecté en SSH...\n",
    "\n",
    "##### Pour aller plus loin :\n",
    "\n",
    "- avec le GPIO : https://gpiozero.readthedocs.io/en/stable/index.html\n",
    "\n",
    "- comment peut-on piloter le GPIO depuis un notebook jupyter s'affichant dans le navigateur d'un PC connecté en SSH au Raspberry Pi, en local ? Et à distance ?\n",
    "    - https://desertbot.io/blog/raspberry-pi-jupyter-gpio\n",
    "    - https://raspberry-pi.fr/nom-domaine/\n",
    "    \n",
    "- quelle différence avec un serveur Jupyterhub comme un [TLJH](https://the-littlest-jupyterhub.readthedocs.io/en/latest/) ou comme décrit là : https://towardsdatascience.com/setup-your-home-jupyterhub-on-a-raspberry-pi-7ad32e20eed"
   ]
  },
  {
   "cell_type": "markdown",
   "metadata": {},
   "source": [
    "##### VNC, Virtual Network Computing :\n",
    "\n",
    "Dans les préférences de configuration du Raspberry Pi activer l'interface serveur [VNC](https://fr.wikipedia.org/wiki/Virtual_Network_Computing).\n",
    "Si ce n'est pas déjà fait, installer [Real VNC viewer](https://www.realvnc.com/en/connect/download/viewer/) sur votre PC.\n",
    "A partir de Cortana, rechercher et lancer l'application de bureau VNC Viewer. Faire `Fichier>Nouvelle connexion` et saisir l'adresse IP du Raspberry Pi...\n",
    "\n",
    "Depuis votre PC, dans la fenêtre graphique qui s'ouvre, démarrer un terminal sur le Raspberry Pi, saisir `Python3`, les trois chevrons `>>>` d'un interpréteur python doivent apparaitre. Tester le bon fonctionnement avec quelques instructions...\n",
    "\n",
    "Puis saisir `exit()` ou faire `Ctrl+D` pour  quitter et revenir au prompt, saisir `jupyter notebook` pour démarrer l'application jupyter sur le Raspberry Pi et la piloter depuis votre PC...\n",
    "\n",
    "De même, vérifier que cela est possible depuis votre iPad...\n",
    "\n",
    "Est-il possible de s'y connecter à plusieurs ?"
   ]
  },
  {
   "cell_type": "markdown",
   "metadata": {},
   "source": [
    "# Prolongement IOT :\n",
    "\n",
    "- [Objets connectés, des robots dans nos maisons ?](https://www.youtube.com/watch?v=DOECi_ZKaYI)\n",
    "\n",
    "- Suivre la procédure pour programmer la carte [QuickPi](https://demo.hedgedoc.org/s/JIJ9UCO26)"
   ]
  },
  {
   "cell_type": "markdown",
   "metadata": {
    "slideshow": {
     "slide_type": ""
    }
   },
   "source": [
    "\n",
    " # Ressources :\n",
    "\n",
    "- [Inria - Les réseaux de communication](https://youtu.be/5AVY6E-7yCc)\n",
    "\n",
    "- https://culturenumerique.univ-lille.fr/module1.html\n",
    "\n",
    "- https://www.lossendiere.com/2016/12/31/comprendre-le-fonctionnement-dun-reseau-informatique/\n",
    "\n",
    "- Ne pas confondre Internet et [Le web, \"site internet\" ou \"site web\" ?](https://youtu.be/GqD6AiaRo3U)\n",
    " \n",
    "- http://www.lycee-ferry-versailles.fr/si-new/index.php?rubrique=5_2_reseaux\n",
    "\n",
    "- https://www.pedagogie.ac-aix-marseille.fr/upload/docs/application/pdf/2015-12/cours_reseaux.pdf\n",
    "\n",
    "- https://www.frameip.com/\n",
    "\n",
    "- http://www.monip.org/"
   ]
  },
  {
   "cell_type": "markdown",
   "metadata": {},
   "source": [
    "****\n",
    "## Références aux programmes :\n",
    "\n",
    "<style type=\"text/css\">\n",
    ".tg  {border-collapse:collapse;border-spacing:0;}\n",
    ".tg td{font-family:Arial, sans-serif;font-size:14px;padding:10px 5px;border-style:solid;border-width:1px;overflow:hidden;word-break:normal;border-color:black;}\n",
    ".tg th{font-family:Arial, sans-serif;font-size:14px;font-weight:normal;padding:10px 5px;border-style:solid;border-width:1px;overflow:hidden;word-break:normal;border-color:black;}\n",
    ".tg .tg-cv16{font-weight:bold;background-color:#dae8fc;border-color:inherit;text-align:center}\n",
    ".tg .tg-xldj{border-color:inherit;text-align:left}\n",
    "</style>\n",
    "\n",
    "<table class=\"tg\">\n",
    "  <tr>\n",
    "    <th class=\"tg-cv16\">Contenus</th>\n",
    "    <th class=\"tg-cv16\">Capacités attendues</th>\n",
    "    <th class=\"tg-cv16\">Commentaires</th>\n",
    "  </tr>\n",
    "  \n",
    "  <tr>\n",
    "    <td class=\"tg-xldj\">Transmission de données dans un réseau<br>Protocoles decommunication<br>Architecture d’un réseau</td>\n",
    "    <td class=\"tg-xldj\">Mettre en évidence l’intérêt du découpage des données en paquets et de leur encapsulation.<br>\n",
    "Dérouler le fonctionnement d’un protocole simple de récupération de perte de paquets (bit alterné).<br>\n",
    "Simuler ou mettre en œuvre un réseau.</td>\n",
    "    <td class=\"tg-xldj\">Le protocole peut être expliqué et simulé en mode débranché.<br>Le lien est fait avec ce qui a été\n",
    "vu en classe de seconde sur le protocole TCP/IP.<br>Le rôle des différents constituants du réseau local de l’établissement\n",
    "est présenté.</td>\n",
    "  </tr>\n",
    "  <tr>\n",
    "    <td class=\"tg-xldj\">Périphériques d’entrée et de sortie<br>Interface HommeMachine (IHM)</td>\n",
    "    <td class=\"tg-xldj\">Identifier le rôle des capteurs et actionneurs.<br>Réaliser par programmation une IHM répondant à un cahier des charges donné.</td>\n",
    "    <td class=\"tg-xldj\">Les activités peuvent être développées sur des objets connectés, des systèmes embarqués ou robots.</td>\n",
    "  </tr>  \n",
    "</table>"
   ]
  }
 ],
 "metadata": {
  "anaconda-cloud": {},
  "kernelspec": {
   "display_name": "Python 3.10.1 64-bit",
   "language": "python",
   "name": "python3"
  },
  "language_info": {
   "codemirror_mode": {
    "name": "ipython",
    "version": 3
   },
   "file_extension": ".py",
   "mimetype": "text/x-python",
   "name": "python",
   "nbconvert_exporter": "python",
   "pygments_lexer": "ipython3",
   "version": "3.10.1"
  },
  "toc": {
   "base_numbering": 1,
   "nav_menu": {},
   "number_sections": true,
   "sideBar": true,
   "skip_h1_title": false,
   "title_cell": "Table of Contents",
   "title_sidebar": "Contents",
   "toc_cell": false,
   "toc_position": {},
   "toc_section_display": true,
   "toc_window_display": false
  },
  "varInspector": {
   "cols": {
    "lenName": 16,
    "lenType": 16,
    "lenVar": 40
   },
   "kernels_config": {
    "python": {
     "delete_cmd_postfix": "",
     "delete_cmd_prefix": "del ",
     "library": "var_list.py",
     "varRefreshCmd": "print(var_dic_list())"
    },
    "r": {
     "delete_cmd_postfix": ") ",
     "delete_cmd_prefix": "rm(",
     "library": "var_list.r",
     "varRefreshCmd": "cat(var_dic_list()) "
    }
   },
   "types_to_exclude": [
    "module",
    "function",
    "builtin_function_or_method",
    "instance",
    "_Feature"
   ],
   "window_display": false
  },
  "vscode": {
   "interpreter": {
    "hash": "c813da0d88532624e95401f841607d640ef6d724b81c00ab0d0885f617a921c3"
   }
  }
 },
 "nbformat": 4,
 "nbformat_minor": 2
}
